{
  "cells": [
    {
      "cell_type": "code",
      "execution_count": 1,
      "metadata": {
        "id": "0JMSDtADFNuX"
      },
      "outputs": [],
      "source": [
        "import torch\n",
        "import torch.nn as nn\n",
        "from torch.utils.data import DataLoader\n",
        "import torchvision\n",
        "from torchvision import datasets\n",
        "from torchvision.transforms import v2 as transforms"
      ]
    },
    {
      "cell_type": "code",
      "execution_count": 2,
      "metadata": {
        "id": "o4YDH2L0ncNr"
      },
      "outputs": [],
      "source": [
        "# Setting device agnostic code\n",
        "device = 'cuda' if torch.cuda.is_available() else 'cpu'"
      ]
    },
    {
      "cell_type": "code",
      "execution_count": 3,
      "metadata": {
        "id": "FZ0hrDkhFuuI"
      },
      "outputs": [],
      "source": [
        "# Creating transform for our images\n",
        "data_transform = transforms.Compose([\n",
        "    transforms.Resize((28, 28)),\n",
        "    transforms.PILToTensor(),\n",
        "    transforms.ToDtype(torch.float32, scale=True)\n",
        "])"
      ]
    },
    {
      "cell_type": "code",
      "execution_count": 4,
      "metadata": {
        "id": "3pB4lSVeGlcv"
      },
      "outputs": [],
      "source": [
        "import os\n",
        "\n",
        "NUM_WORKERS = 2\n",
        "BATCH_SIZE = 32\n",
        "LATENT_SIZE = 128\n",
        "EPOCHS = 5\n",
        "LR = 0.0002\n",
        "BETAS = (0.5, 0.999)"
      ]
    },
    {
      "cell_type": "code",
      "execution_count": 5,
      "metadata": {
        "colab": {
          "base_uri": "https://localhost:8080/"
        },
        "id": "bpRAgOv9FchZ",
        "outputId": "980bdb93-f158-4b20-9af8-8c6d19d78b6b"
      },
      "outputs": [
        {
          "output_type": "stream",
          "name": "stdout",
          "text": [
            "Downloading http://fashion-mnist.s3-website.eu-central-1.amazonaws.com/train-images-idx3-ubyte.gz\n",
            "Downloading http://fashion-mnist.s3-website.eu-central-1.amazonaws.com/train-images-idx3-ubyte.gz to ./FashionMNIST/raw/train-images-idx3-ubyte.gz\n"
          ]
        },
        {
          "output_type": "stream",
          "name": "stderr",
          "text": [
            "100%|██████████| 26421880/26421880 [00:01<00:00, 15202327.78it/s]\n"
          ]
        },
        {
          "output_type": "stream",
          "name": "stdout",
          "text": [
            "Extracting ./FashionMNIST/raw/train-images-idx3-ubyte.gz to ./FashionMNIST/raw\n",
            "\n",
            "Downloading http://fashion-mnist.s3-website.eu-central-1.amazonaws.com/train-labels-idx1-ubyte.gz\n",
            "Downloading http://fashion-mnist.s3-website.eu-central-1.amazonaws.com/train-labels-idx1-ubyte.gz to ./FashionMNIST/raw/train-labels-idx1-ubyte.gz\n"
          ]
        },
        {
          "output_type": "stream",
          "name": "stderr",
          "text": [
            "100%|██████████| 29515/29515 [00:00<00:00, 269128.09it/s]\n"
          ]
        },
        {
          "output_type": "stream",
          "name": "stdout",
          "text": [
            "Extracting ./FashionMNIST/raw/train-labels-idx1-ubyte.gz to ./FashionMNIST/raw\n",
            "\n",
            "Downloading http://fashion-mnist.s3-website.eu-central-1.amazonaws.com/t10k-images-idx3-ubyte.gz\n",
            "Downloading http://fashion-mnist.s3-website.eu-central-1.amazonaws.com/t10k-images-idx3-ubyte.gz to ./FashionMNIST/raw/t10k-images-idx3-ubyte.gz\n"
          ]
        },
        {
          "output_type": "stream",
          "name": "stderr",
          "text": [
            "100%|██████████| 4422102/4422102 [00:00<00:00, 4957822.44it/s]\n"
          ]
        },
        {
          "output_type": "stream",
          "name": "stdout",
          "text": [
            "Extracting ./FashionMNIST/raw/t10k-images-idx3-ubyte.gz to ./FashionMNIST/raw\n",
            "\n",
            "Downloading http://fashion-mnist.s3-website.eu-central-1.amazonaws.com/t10k-labels-idx1-ubyte.gz\n",
            "Downloading http://fashion-mnist.s3-website.eu-central-1.amazonaws.com/t10k-labels-idx1-ubyte.gz to ./FashionMNIST/raw/t10k-labels-idx1-ubyte.gz\n"
          ]
        },
        {
          "output_type": "stream",
          "name": "stderr",
          "text": [
            "100%|██████████| 5148/5148 [00:00<00:00, 3200752.59it/s]\n"
          ]
        },
        {
          "output_type": "stream",
          "name": "stdout",
          "text": [
            "Extracting ./FashionMNIST/raw/t10k-labels-idx1-ubyte.gz to ./FashionMNIST/raw\n",
            "\n"
          ]
        }
      ],
      "source": [
        "# Importing the dataset and creating dataloader.\n",
        "train_dataset = datasets.FashionMNIST(root='./', train=True, transform=data_transform, download=True)\n",
        "test_dataset = datasets.FashionMNIST(root='./', train=False, transform=data_transform, download=True)\n",
        "\n",
        "train_dataloader = DataLoader(train_dataset, batch_size=BATCH_SIZE, shuffle=True, num_workers=NUM_WORKERS)\n",
        "test_dataloader = DataLoader(test_dataset, batch_size=BATCH_SIZE, shuffle=False, num_workers=NUM_WORKERS)"
      ]
    },
    {
      "cell_type": "code",
      "execution_count": 6,
      "metadata": {
        "colab": {
          "base_uri": "https://localhost:8080/"
        },
        "id": "IFPkmwzcG2kA",
        "outputId": "21b1d8ab-84b6-4452-eb0c-1fad5291aa32"
      },
      "outputs": [
        {
          "output_type": "execute_result",
          "data": {
            "text/plain": [
              "(torch.Size([32, 1, 28, 28]), torch.Size([32]))"
            ]
          },
          "metadata": {},
          "execution_count": 6
        }
      ],
      "source": [
        "image, label = next(iter(train_dataloader))\n",
        "image.shape, label.shape"
      ]
    },
    {
      "cell_type": "markdown",
      "metadata": {
        "id": "CgqtWhb-Icvu"
      },
      "source": [
        "## Visualizing a batch of random images from dataloader."
      ]
    },
    {
      "cell_type": "code",
      "execution_count": 7,
      "metadata": {
        "colab": {
          "base_uri": "https://localhost:8080/"
        },
        "id": "rrHo6fxMcIpz",
        "outputId": "5165e55e-3461-4c64-c2d3-80648a47ec7e"
      },
      "outputs": [
        {
          "output_type": "execute_result",
          "data": {
            "text/plain": [
              "(['T-shirt/top',\n",
              "  'Trouser',\n",
              "  'Pullover',\n",
              "  'Dress',\n",
              "  'Coat',\n",
              "  'Sandal',\n",
              "  'Shirt',\n",
              "  'Sneaker',\n",
              "  'Bag',\n",
              "  'Ankle boot'],\n",
              " 10)"
            ]
          },
          "metadata": {},
          "execution_count": 7
        }
      ],
      "source": [
        "class_names = train_dataset.classes\n",
        "num_classes = len(class_names)\n",
        "class_names, num_classes"
      ]
    },
    {
      "cell_type": "code",
      "execution_count": 8,
      "metadata": {
        "colab": {
          "base_uri": "https://localhost:8080/",
          "height": 563
        },
        "id": "M4C2s8S1H9S0",
        "outputId": "4e7ff15f-837e-4c6a-befd-354c0f92f1af"
      },
      "outputs": [
        {
          "output_type": "display_data",
          "data": {
            "text/plain": [
              "<Figure size 1000x700 with 32 Axes>"
            ],
            "image/png": "[encoded data removed]"
          },
          "metadata": {}
        }
      ],
      "source": [
        "import matplotlib.pyplot as plt\n",
        "\n",
        "image, label = next(iter(train_dataloader))\n",
        "\n",
        "plt.figure(figsize=(10,7))\n",
        "for i in range(BATCH_SIZE):\n",
        " plt.subplot(4, 8, 1 + i)\n",
        " img = image[i].permute(1, 2, 0)\n",
        " plt.title(f'{class_names[label[i].item()]}')\n",
        " plt.imshow(img, cmap='gray_r')\n",
        " plt.axis(False)\n",
        "plt.show()"
      ]
    },
    {
      "cell_type": "markdown",
      "metadata": {
        "id": "uzFK2Bo9x4iY"
      },
      "source": [
        "# How will we make the DCGAN conditional ?\n",
        "\n",
        "### We first need to encode our labels.\n",
        "\n",
        "There are 2 methods for encoding the label data -\n",
        "- We can either use one hot encoding to encode the data. (`torch.nn.functional.one_hot()`). It's not the recommended way since we may have a lot of labels sometimes, for which we have to create huge one hot vectors that are sparse. This is not optimal for memory and computation.\n",
        "- We can use the embedding layer from PyTorch (`nn.Embedding()`) and make it the same as our image size (28x28) and then use that layer as an additional dimension of the image.\n",
        "\n",
        "The better method is using the embedding layer so we're going to use that in our model.\n",
        "\n",
        "To make the GAN conditional all we need do for the generator is feed the class labels into the network. These are concatenated with the latent embedding before going through the transposed convolutional layers to generate an image.\n",
        "\n",
        "For the critic, we can concatenate the class label with the flattened CNN features or we can add the label embedding to the image as an extra dimension so the fully connected layers can use that information to distinguish between the classes."
      ]
    },
    {
      "cell_type": "markdown",
      "metadata": {
        "id": "aLt9JvoT4gki"
      },
      "source": [
        "## Creating the Discriminator"
      ]
    },
    {
      "cell_type": "code",
      "execution_count": 9,
      "metadata": {
        "id": "OilN84UxzKy4"
      },
      "outputs": [],
      "source": [
        "# Creating the discriminator\n",
        "class Discriminator(nn.Module):\n",
        "\n",
        "  def __init__(self, in_channels, num_classes, batch_size):\n",
        "    super().__init__()\n",
        "\n",
        "    self.batch_size = batch_size\n",
        "\n",
        "    # We want to create the embedding as an extra image channel and pass it into the model.\n",
        "    self.label_embed = nn.Embedding(num_classes, 28*28)\n",
        "\n",
        "    self.conv_layers = nn.Sequential(\n",
        "        # Input --> BATCH_SIZE, 2, 28, 28\n",
        "        nn.Conv2d(in_channels + 1, 32, kernel_size=4, stride=2, padding=1, bias=False),\n",
        "        nn.BatchNorm2d(32),\n",
        "        nn.LeakyReLU(negative_slope=0.2, inplace=True),\n",
        "        # Output Feature Maps --> BATCH_SIZE, 32, 14, 14\n",
        "\n",
        "        nn.Conv2d(32, 64, 4, 2, 1, bias=False),\n",
        "        nn.BatchNorm2d(64),\n",
        "        nn.LeakyReLU(0.2, inplace=True),\n",
        "        # Output Feature Maps --> BATCH_SIZE, 64, 7, 7\n",
        "\n",
        "        nn.Conv2d(64, 128, 4, 2, 1, bias=False),\n",
        "        nn.BatchNorm2d(128),\n",
        "        nn.LeakyReLU(0.2, inplace=True),\n",
        "        # Output Feature Maps --> BATCH_SIZE, 128, 3, 3\n",
        "\n",
        "        nn.Conv2d(128, 256, 4, 2, 1, bias=False),\n",
        "        # nn.BatchNorm2d(256),  Didn't apply BatchNorm2d because it requres atleast (2, 2) tensor to apply normalization.\n",
        "        nn.LeakyReLU(0.2, inplace=True)\n",
        "        # Output Feature Maps --> BATCH_SIZE, 256, 1, 1\n",
        "    )\n",
        "\n",
        "    self.classifier = nn.Sequential(\n",
        "        nn.Flatten(),\n",
        "        nn.Linear(256*1*1, 1),\n",
        "        nn.Sigmoid()\n",
        "    )\n",
        "\n",
        "  def forward(self, x, label):\n",
        "    # Passing class label to embedding channel. Want shape as --> [batch_size, 1, 28, 28]\n",
        "    embed_channel = self.label_embed(label).view(self.batch_size, 1, 28, 28)\n",
        "    # Adding the embedding as additional channel.\n",
        "    x = torch.cat([x, embed_channel], dim=1)\n",
        "    return self.classifier(self.conv_layers(x))"
      ]
    },
    {
      "cell_type": "code",
      "execution_count": 10,
      "metadata": {
        "colab": {
          "base_uri": "https://localhost:8080/"
        },
        "id": "suWAx9jo3JKv",
        "outputId": "090860db-12d2-4c8f-dfd7-2d65a22aa56a"
      },
      "outputs": [
        {
          "output_type": "execute_result",
          "data": {
            "text/plain": [
              "tensor([[0.5058],\n",
              "        [0.5304],\n",
              "        [0.5487],\n",
              "        [0.5514],\n",
              "        [0.5745],\n",
              "        [0.5057],\n",
              "        [0.4969],\n",
              "        [0.5530],\n",
              "        [0.5457],\n",
              "        [0.5412],\n",
              "        [0.5274],\n",
              "        [0.5634],\n",
              "        [0.5522],\n",
              "        [0.5537],\n",
              "        [0.5392],\n",
              "        [0.5197],\n",
              "        [0.5793],\n",
              "        [0.5309],\n",
              "        [0.5597],\n",
              "        [0.5406],\n",
              "        [0.5333],\n",
              "        [0.5706],\n",
              "        [0.4786],\n",
              "        [0.5341],\n",
              "        [0.5683],\n",
              "        [0.5521],\n",
              "        [0.5398],\n",
              "        [0.5328],\n",
              "        [0.5529],\n",
              "        [0.5700],\n",
              "        [0.5332],\n",
              "        [0.5150]], device='cuda:0', grad_fn=<SigmoidBackward0>)"
            ]
          },
          "metadata": {},
          "execution_count": 10
        }
      ],
      "source": [
        "image, label = next(iter(train_dataloader))\n",
        "image = image.to(device)\n",
        "label = label.to(device)\n",
        "discriminator = Discriminator(1, num_classes, BATCH_SIZE).to(device)\n",
        "preds = discriminator(image, label)\n",
        "preds"
      ]
    },
    {
      "cell_type": "markdown",
      "metadata": {
        "id": "umVSAqqB4jeU"
      },
      "source": [
        "## Creating the Generator"
      ]
    },
    {
      "cell_type": "markdown",
      "metadata": {
        "id": "OXzSxCd29i9e"
      },
      "source": [
        "For transpose convolutions on square tensors, the formula is -\n",
        "\n",
        "H_out =(H_in - 1) * stride - 2 * padding + dilation * (kernel_size-1) + output_padding + 1\n",
        "\n",
        "dilation is 1 by default, output padding is 0 by default\n",
        "\n",
        "`H_out = (H_in-1) * stride + (kernel_size-1) - 2 * padding + 1`"
      ]
    },
    {
      "cell_type": "code",
      "execution_count": 11,
      "metadata": {
        "id": "WBTPZMa23w7F"
      },
      "outputs": [],
      "source": [
        "class Generator(nn.Module):\n",
        "\n",
        "  def __init__(self, z_dim, num_classes, batch_size):\n",
        "    super().__init__()\n",
        "\n",
        "    self.batch_size = batch_size\n",
        "\n",
        "    # We want to pass the latent vector + the number of classes as input to generator.\n",
        "    self.embed_layer = nn.Embedding(num_classes, num_classes) # 10 inputs to 10 outputs.\n",
        "\n",
        "    self.trans_conv_layers = nn.Sequential(\n",
        "        # Input is latent dimension vector of size --> z_dim + num_classes, 1, 1\n",
        "        nn.ConvTranspose2d(z_dim + num_classes, 256, 4, 2, 1),\n",
        "        nn.BatchNorm2d(256),\n",
        "        nn.ReLU(inplace=True),\n",
        "        # Output Size = 256, 2, 2\n",
        "\n",
        "        nn.ConvTranspose2d(256, 128, 4, 2, 1),\n",
        "        nn.BatchNorm2d(128),\n",
        "        nn.ReLU(True),\n",
        "        # Output Size = 128, 4, 4\n",
        "\n",
        "        nn.ConvTranspose2d(128, 64, 4, 2, 1),\n",
        "        nn.BatchNorm2d(64),\n",
        "        nn.ReLU(True),\n",
        "        # Output Size = 64, 8, 8\n",
        "\n",
        "        nn.ConvTranspose2d(64, 32, 4, 2, 1),\n",
        "        nn.BatchNorm2d(32),\n",
        "        nn.ReLU(True),\n",
        "        # Output Size = 32, 16, 16\n",
        "\n",
        "        nn.ConvTranspose2d(32, 1, 4, 2, 3),\n",
        "        nn.Tanh()\n",
        "        # Output Size = 1, 28, 28\n",
        "    )\n",
        "\n",
        "  # We send the label as 2nd input to generate images targeting that specific label.\n",
        "  def forward(self, noise, label):\n",
        "    embed_tensor = self.embed_layer(label)  # Shape --> 32, 10. Want --> 32, 10, 1, 1.\n",
        "    embed_tensor = embed_tensor.unsqueeze(2).unsqueeze(3)  # Add dimensions to match noise\n",
        "    noise = torch.cat((noise, embed_tensor), dim=1)  # Concatenate along the channel dimension\n",
        "    return self.trans_conv_layers(noise)"
      ]
    },
    {
      "cell_type": "code",
      "execution_count": 12,
      "metadata": {
        "colab": {
          "base_uri": "https://localhost:8080/"
        },
        "id": "L1yFBXF4CK0L",
        "outputId": "a6dec140-3f81-44b9-86fe-29deabc43bb8"
      },
      "outputs": [
        {
          "output_type": "execute_result",
          "data": {
            "text/plain": [
              "torch.Size([32, 1, 28, 28])"
            ]
          },
          "metadata": {},
          "execution_count": 12
        }
      ],
      "source": [
        "generator = Generator(LATENT_SIZE, num_classes, BATCH_SIZE).to(device)\n",
        "noise = torch.rand(size=[BATCH_SIZE, LATENT_SIZE, 1, 1]).to(device)\n",
        "# Just using a random label here. Just wanted to check if model can generate correct shape or not.\n",
        "output = generator(noise, label)\n",
        "output.shape"
      ]
    },
    {
      "cell_type": "markdown",
      "metadata": {
        "id": "gQT35KtHJctI"
      },
      "source": [
        "# Write training and testing loop"
      ]
    },
    {
      "cell_type": "code",
      "execution_count": 13,
      "metadata": {
        "id": "CSdpPM7fnUdo"
      },
      "outputs": [],
      "source": [
        "# Training the discriminator.\n",
        "def train_discriminator(discriminator: nn.Module,\n",
        "                        generator: nn.Module,\n",
        "                        d_optim: torch.optim.Optimizer,\n",
        "                        real_images: torch.Tensor,\n",
        "                        labels: torch.Tensor,\n",
        "                        batch_size: int,\n",
        "                        latent_size: int,\n",
        "                        loss_fn: nn.Module = nn.BCELoss(),\n",
        "                        device: torch.device = 'cpu'):\n",
        "\n",
        "  # Setting appropriate modes for models.\n",
        "  # discriminator.train()\n",
        "  # generator.eval()\n",
        "\n",
        "  # Make predictions\n",
        "  real_preds = discriminator(real_images, labels)\n",
        "  real_targets = torch.ones(size=[real_images.size(0), 1]).to(device)\n",
        "  real_loss = loss_fn(real_preds, real_targets)\n",
        "\n",
        "  # Generate fake images\n",
        "  latent = torch.randn(batch_size, latent_size, 1, 1).to(device)\n",
        "  fake_images = generator(latent, labels)\n",
        "\n",
        "  # Pass fake images through discriminator\n",
        "  fake_preds = discriminator(fake_images, labels)\n",
        "  fake_targets = torch.zeros(size=[fake_images.size(0), 1]).to(device)\n",
        "  fake_loss = loss_fn(fake_preds, fake_targets)\n",
        "\n",
        "  # Update discriminator weights\n",
        "  loss = real_loss + fake_loss\n",
        "  d_optim.zero_grad()\n",
        "  loss.backward()\n",
        "  d_optim.step()\n",
        "\n",
        "  return loss.item()"
      ]
    },
    {
      "cell_type": "code",
      "execution_count": 14,
      "metadata": {
        "id": "DNJalQnBZuWo"
      },
      "outputs": [],
      "source": [
        "# Training the generator.\n",
        "def train_generator(discriminator: nn.Module,\n",
        "                    generator: nn.Module,\n",
        "                    g_optim: torch.optim.Optimizer,\n",
        "                    labels: torch.Tensor,\n",
        "                    batch_size: int,\n",
        "                    latent_size: int,\n",
        "                    loss_fn: nn.Module = nn.BCELoss(),\n",
        "                    device: torch.device = device):\n",
        "\n",
        "  # Setting appropriate states for models.\n",
        "  # discriminator.eval()\n",
        "  # generator.train()\n",
        "\n",
        "  # Generate fake images.\n",
        "  latent = torch.randn(batch_size, latent_size, 1, 1).to(device)\n",
        "  fake_images = generator(latent, labels)\n",
        "\n",
        "  # Pass the images to discriminator.\n",
        "  fake_preds = discriminator(fake_images, labels)\n",
        "  target = torch.ones([fake_images.size(0), 1]).to(device)\n",
        "\n",
        "  # Calculate the loss.\n",
        "  loss = loss_fn(fake_preds, target)\n",
        "\n",
        "  # Set gradients to zero\n",
        "  g_optim.zero_grad()\n",
        "\n",
        "  # Backprop\n",
        "  loss.backward()\n",
        "  g_optim.step()\n",
        "\n",
        "  return loss.item()"
      ]
    },
    {
      "cell_type": "code",
      "execution_count": 15,
      "metadata": {
        "id": "7LFF9EwkPrcu"
      },
      "outputs": [],
      "source": [
        "sample_dir = 'generated'\n",
        "os.makedirs(sample_dir, exist_ok=True)"
      ]
    },
    {
      "cell_type": "code",
      "execution_count": 35,
      "metadata": {
        "id": "r8EaGfpCQU-d"
      },
      "outputs": [],
      "source": [
        "# Creating the generator and discriminator.\n",
        "generator = Generator(LATENT_SIZE, num_classes, BATCH_SIZE).to(device)\n",
        "discriminator = Discriminator(1, num_classes, BATCH_SIZE).to(device)"
      ]
    },
    {
      "cell_type": "code",
      "execution_count": 37,
      "metadata": {
        "id": "pPo8P2HbZuus"
      },
      "outputs": [],
      "source": [
        "from torchvision.utils import make_grid\n",
        "from tqdm.auto import tqdm\n",
        "def train(epochs, lr, betas, start_idx=1, device: torch.device = device):\n",
        "\n",
        "  d_losses = []\n",
        "  g_losses = []\n",
        "  images = []\n",
        "\n",
        "  # Creating optimizers and loss function.\n",
        "  g_optim = torch.optim.Adam(generator.parameters(),\n",
        "                            lr=LR, betas=betas)\n",
        "  d_optim = torch.optim.Adam(discriminator.parameters(),\n",
        "                            lr=LR, betas=betas)\n",
        "\n",
        "  loss_fn = nn.BCELoss()\n",
        "\n",
        "  for epoch in range(epochs):\n",
        "\n",
        "    d_loss, g_loss = 0, 0\n",
        "\n",
        "    for batch, (real_images, labels) in enumerate(tqdm(train_dataloader)):\n",
        "\n",
        "      # Moving data to target device\n",
        "      real_images = real_images.to(device)\n",
        "      labels = labels.to(device)\n",
        "\n",
        "      # Train discriminator\n",
        "      d_loss += train_discriminator(discriminator, generator, d_optim, real_images, labels, BATCH_SIZE, LATENT_SIZE, loss_fn, device)\n",
        "\n",
        "      # Train generator\n",
        "      g_loss += train_generator(discriminator, generator, g_optim, labels, BATCH_SIZE, LATENT_SIZE, loss_fn, device)\n",
        "\n",
        "    # Calculating the average loss per batch\n",
        "    d_loss /= len(train_dataloader)\n",
        "    g_loss /= len(train_dataloader)\n",
        "\n",
        "    d_losses.append(d_loss)\n",
        "    g_losses.append(g_loss)\n",
        "\n",
        "    # Print info\n",
        "    print(\"Epoch: [{}/{}] | Discriminator Loss: {:.4f} | Generator Loss: {:.4f}\".format(\n",
        "        epoch+1, epochs, d_loss, g_loss\n",
        "    ))\n",
        "\n",
        "  return d_losses, g_losses"
      ]
    },
    {
      "cell_type": "code",
      "execution_count": 38,
      "metadata": {
        "colab": {
          "base_uri": "https://localhost:8080/",
          "height": 266,
          "referenced_widgets": [
            "693c532717ac462a8570bbe7dc5f1525",
            "e16b38a500ea439188531bbabb1d4bba",
            "282f3a0b22cf4b18a3616321205bb376",
            "c90b2d27403b4b36a4a4783e8a1e920a",
            "32b6229dd57946528a7e00fdc9569131",
            "0dac3742164f4056bd590b921b864f32",
            "c20b12ebb6e3497c803a5faeb249f202",
            "3d7e203dae5446aea8954d01f71eeba3",
            "45b29fcfe06e41ec855cb05bfce99528",
            "fe558fc64a6845bf8c9522ff55762114",
            "56caaa3053a54dbc913fa4e6d468a6b9",
            "d8658fd9134b477e8a4a257b27c82469",
            "2273ff2b3df7475189a23ecb6a6f162e",
            "4b281c9c0ede4b538640ab46d1c2b373",
            "812f5ca049bc4e2cbac40d9c2d37fb81",
            "622853aeba5c4b7aacba398675091dbb",
            "73590fb5cfdf4390b56a42caf95bbd99",
            "33195779974a4b87b7d7778be73c0c2a",
            "9a13f825cd9a42a3ae45f3a684bee339",
            "f049f533b268471781e98b5be227d560",
            "0aa759641f4743d59a240472c1370e09",
            "31f33837579c4f059939c4ee185f5ef5",
            "74385d4d186f45888bb587179e2b6cd0",
            "45caf13635444e5fb27c91f4bdd053b8",
            "994e6f0631fc4b2e8508226deb7ffcac",
            "616193ee694e4b97ae73bc63fd460932",
            "79a993c9d13f468cb41cbb7267aeba22",
            "d5f0c6b3b9bf41e1a83dc954fe754355",
            "34373d1053ef40eaaa51e67a3801c90e",
            "faa929dc0ddc48f093b8a5219814db5c",
            "491ef2b3b8584e958b3911f51cff39df",
            "5473dcaf9ea94cfb8320be7287d75a67",
            "f7f0d6f90e034dfcaf583c5df18f1218",
            "bc9653a0aed445f2acd94a19e6dadcdc",
            "2d3e45323310460f98b66c308129da2d",
            "30357ab75c034c2981ffd21d21f49447",
            "60441bfff3d3427ba8714780c416513a",
            "63afc5397c994ade86ba079ea914ef0c",
            "ec1316a71acb410994280e84e7504de5",
            "54a03dc2c49145a6a1bdfebc1a8f1173",
            "a0d952eedbdb4c8a996c2d319bbe2d74",
            "cc0e85e70472415e898b7a3c2f1f5ee0",
            "049ab3e3683c46d2939ad1b494a835e9",
            "105681fadecd4e3ba9c4f2df6a9f689a",
            "f7582fcbc6f54291b8ee1ad8acd38a6a",
            "da8c4f7bf206402591bf406fd25832de",
            "09e7e9762ce64e1d85d8f73074660110",
            "9487521113484cb68b97cc3f6838dabb",
            "40f0f45500ff4706b1eb86c4a7ea4262",
            "1234ccbdc9c84423a70718189db14218",
            "2b2e51e79e0e4b1ca6ffa9c24205f5b8",
            "0ff4a927069141c28267c806267b87d8",
            "3d683e16fcaf453a9b0f4f4463613c29",
            "ce79ecd3deb5465f8fe9ec07deb7ae49",
            "4ce843c505ae4f29a4d22fcafb96449d"
          ]
        },
        "id": "6RckLl7Iq2Ad",
        "outputId": "c06c9ca5-bc09-435a-e2a0-1c005c2af149"
      },
      "outputs": [
        {
          "output_type": "display_data",
          "data": {
            "text/plain": [
              "  0%|          | 0/1875 [00:00<?, ?it/s]"
            ],
            "application/vnd.jupyter.widget-view+json": {
              "version_major": 2,
              "version_minor": 0,
              "model_id": "693c532717ac462a8570bbe7dc5f1525"
            }
          },
          "metadata": {}
        },
        {
          "output_type": "stream",
          "name": "stdout",
          "text": [
            "Epoch: [1/5] | Discriminator Loss: 1.2584 | Generator Loss: 1.1375\n"
          ]
        },
        {
          "output_type": "display_data",
          "data": {
            "text/plain": [
              "  0%|          | 0/1875 [00:00<?, ?it/s]"
            ],
            "application/vnd.jupyter.widget-view+json": {
              "version_major": 2,
              "version_minor": 0,
              "model_id": "d8658fd9134b477e8a4a257b27c82469"
            }
          },
          "metadata": {}
        },
        {
          "output_type": "stream",
          "name": "stdout",
          "text": [
            "Epoch: [2/5] | Discriminator Loss: 1.2462 | Generator Loss: 1.0672\n"
          ]
        },
        {
          "output_type": "display_data",
          "data": {
            "text/plain": [
              "  0%|          | 0/1875 [00:00<?, ?it/s]"
            ],
            "application/vnd.jupyter.widget-view+json": {
              "version_major": 2,
              "version_minor": 0,
              "model_id": "74385d4d186f45888bb587179e2b6cd0"
            }
          },
          "metadata": {}
        },
        {
          "output_type": "stream",
          "name": "stdout",
          "text": [
            "Epoch: [3/5] | Discriminator Loss: 1.1826 | Generator Loss: 1.1496\n"
          ]
        },
        {
          "output_type": "display_data",
          "data": {
            "text/plain": [
              "  0%|          | 0/1875 [00:00<?, ?it/s]"
            ],
            "application/vnd.jupyter.widget-view+json": {
              "version_major": 2,
              "version_minor": 0,
              "model_id": "bc9653a0aed445f2acd94a19e6dadcdc"
            }
          },
          "metadata": {}
        },
        {
          "output_type": "stream",
          "name": "stdout",
          "text": [
            "Epoch: [4/5] | Discriminator Loss: 1.0932 | Generator Loss: 1.2947\n"
          ]
        },
        {
          "output_type": "display_data",
          "data": {
            "text/plain": [
              "  0%|          | 0/1875 [00:00<?, ?it/s]"
            ],
            "application/vnd.jupyter.widget-view+json": {
              "version_major": 2,
              "version_minor": 0,
              "model_id": "f7582fcbc6f54291b8ee1ad8acd38a6a"
            }
          },
          "metadata": {}
        },
        {
          "output_type": "stream",
          "name": "stdout",
          "text": [
            "Epoch: [5/5] | Discriminator Loss: 0.9198 | Generator Loss: 1.6530\n"
          ]
        }
      ],
      "source": [
        "d_losses, g_losses = train(EPOCHS, LR, BETAS)"
      ]
    },
    {
      "cell_type": "code",
      "execution_count": 39,
      "metadata": {
        "id": "bNUzOZLFq0hs"
      },
      "outputs": [],
      "source": [
        "# Save the model checkpoints\n",
        "torch.save(generator.state_dict(), 'G.pth')\n",
        "torch.save(discriminator.state_dict(), 'D.pth')"
      ]
    },
    {
      "cell_type": "code",
      "execution_count": 42,
      "metadata": {
        "id": "s1cINbo1rEBw",
        "colab": {
          "base_uri": "https://localhost:8080/",
          "height": 472
        },
        "outputId": "ac66a6b1-6d51-4ab2-ffa2-d81b60f98762"
      },
      "outputs": [
        {
          "output_type": "display_data",
          "data": {
            "text/plain": [
              "<Figure size 640x480 with 1 Axes>"
            ],
            "image/png": "[encoded data removed]"
          },
          "metadata": {}
        }
      ],
      "source": [
        "plt.plot(d_losses, '-')\n",
        "plt.plot(g_losses, '-')\n",
        "plt.xlabel('epoch')\n",
        "plt.ylabel('loss')\n",
        "plt.legend(['Discriminator', 'Generator'])\n",
        "plt.title('Losses');"
      ]
    },
    {
      "cell_type": "code",
      "source": [
        "class_names"
      ],
      "metadata": {
        "colab": {
          "base_uri": "https://localhost:8080/"
        },
        "id": "YdTb9B8rTjgL",
        "outputId": "e1824d27-fabe-4a36-8dfd-1b666801e416"
      },
      "execution_count": 53,
      "outputs": [
        {
          "output_type": "execute_result",
          "data": {
            "text/plain": [
              "['T-shirt/top',\n",
              " 'Trouser',\n",
              " 'Pullover',\n",
              " 'Dress',\n",
              " 'Coat',\n",
              " 'Sandal',\n",
              " 'Shirt',\n",
              " 'Sneaker',\n",
              " 'Bag',\n",
              " 'Ankle boot']"
            ]
          },
          "metadata": {},
          "execution_count": 53
        }
      ]
    },
    {
      "cell_type": "code",
      "source": [
        "def generate_image(generator, latent_size, class_index):\n",
        "  noise = torch.rand(size=[1, latent_size, 1, 1]).to(device)\n",
        "  label = torch.Tensor([class_index]).type(torch.IntTensor).to(device)\n",
        "  output = generator(noise, label)\n",
        "  output = output.squeeze(dim=0).to('cpu')\n",
        "  output = output.detach()\n",
        "  output = output.permute(1, 2, 0)\n",
        "  plt.imshow(output, cmap='gray')"
      ],
      "metadata": {
        "id": "wXUI68p8TMbf"
      },
      "execution_count": 55,
      "outputs": []
    },
    {
      "cell_type": "code",
      "source": [
        "generate_image(generator, LATENT_SIZE, 3)"
      ],
      "metadata": {
        "colab": {
          "base_uri": "https://localhost:8080/",
          "height": 430
        },
        "id": "pKk-oPDoUFs9",
        "outputId": "89c061f1-1ee1-41ec-c2db-56470c9c493c"
      },
      "execution_count": 56,
      "outputs": [
        {
          "output_type": "display_data",
          "data": {
            "text/plain": [
              "<Figure size 640x480 with 1 Axes>"
            ],
            "image/png": "[encoded data removed]"
          },
          "metadata": {}
        }
      ]
    },
    {
      "cell_type": "code",
      "source": [],
      "metadata": {
        "id": "CEmc8jCnUWfd"
      },
      "execution_count": null,
      "outputs": []
    }
  ],
  "metadata": {
    "colab": {
      "provenance": [],
      "gpuType": "T4"
    },
    "kernelspec": {
      "display_name": "Python 3",
      "name": "python3"
    },
    "language_info": {
      "name": "python"
    },
    "widgets": {
      "application/vnd.jupyter.widget-state+json": {
        "693c532717ac462a8570bbe7dc5f1525": {
          "model_module": "@jupyter-widgets/controls",
          "model_name": "HBoxModel",
          "model_module_version": "1.5.0",
          "state": {
            "_dom_classes": [],
            "_model_module": "@jupyter-widgets/controls",
            "_model_module_version": "1.5.0",
            "_model_name": "HBoxModel",
            "_view_count": null,
            "_view_module": "@jupyter-widgets/controls",
            "_view_module_version": "1.5.0",
            "_view_name": "HBoxView",
            "box_style": "",
            "children": [
              "IPY_MODEL_e16b38a500ea439188531bbabb1d4bba",
              "IPY_MODEL_282f3a0b22cf4b18a3616321205bb376",
              "IPY_MODEL_c90b2d27403b4b36a4a4783e8a1e920a"
            ],
            "layout": "IPY_MODEL_32b6229dd57946528a7e00fdc9569131"
          }
        },
        "e16b38a500ea439188531bbabb1d4bba": {
          "model_module": "@jupyter-widgets/controls",
          "model_name": "HTMLModel",
          "model_module_version": "1.5.0",
          "state": {
            "_dom_classes": [],
            "_model_module": "@jupyter-widgets/controls",
            "_model_module_version": "1.5.0",
            "_model_name": "HTMLModel",
            "_view_count": null,
            "_view_module": "@jupyter-widgets/controls",
            "_view_module_version": "1.5.0",
            "_view_name": "HTMLView",
            "description": "",
            "description_tooltip": null,
            "layout": "IPY_MODEL_0dac3742164f4056bd590b921b864f32",
            "placeholder": "​",
            "style": "IPY_MODEL_c20b12ebb6e3497c803a5faeb249f202",
            "value": "100%"
          }
        },
        "282f3a0b22cf4b18a3616321205bb376": {
          "model_module": "@jupyter-widgets/controls",
          "model_name": "FloatProgressModel",
          "model_module_version": "1.5.0",
          "state": {
            "_dom_classes": [],
            "_model_module": "@jupyter-widgets/controls",
            "_model_module_version": "1.5.0",
            "_model_name": "FloatProgressModel",
            "_view_count": null,
            "_view_module": "@jupyter-widgets/controls",
            "_view_module_version": "1.5.0",
            "_view_name": "ProgressView",
            "bar_style": "success",
            "description": "",
            "description_tooltip": null,
            "layout": "IPY_MODEL_3d7e203dae5446aea8954d01f71eeba3",
            "max": 1875,
            "min": 0,
            "orientation": "horizontal",
            "style": "IPY_MODEL_45b29fcfe06e41ec855cb05bfce99528",
            "value": 1875
          }
        },
        "c90b2d27403b4b36a4a4783e8a1e920a": {
          "model_module": "@jupyter-widgets/controls",
          "model_name": "HTMLModel",
          "model_module_version": "1.5.0",
          "state": {
            "_dom_classes": [],
            "_model_module": "@jupyter-widgets/controls",
            "_model_module_version": "1.5.0",
            "_model_name": "HTMLModel",
            "_view_count": null,
            "_view_module": "@jupyter-widgets/controls",
            "_view_module_version": "1.5.0",
            "_view_name": "HTMLView",
            "description": "",
            "description_tooltip": null,
            "layout": "IPY_MODEL_fe558fc64a6845bf8c9522ff55762114",
            "placeholder": "​",
            "style": "IPY_MODEL_56caaa3053a54dbc913fa4e6d468a6b9",
            "value": " 1875/1875 [00:47&lt;00:00, 44.89it/s]"
          }
        },
        "32b6229dd57946528a7e00fdc9569131": {
          "model_module": "@jupyter-widgets/base",
          "model_name": "LayoutModel",
          "model_module_version": "1.2.0",
          "state": {
            "_model_module": "@jupyter-widgets/base",
            "_model_module_version": "1.2.0",
            "_model_name": "LayoutModel",
            "_view_count": null,
            "_view_module": "@jupyter-widgets/base",
            "_view_module_version": "1.2.0",
            "_view_name": "LayoutView",
            "align_content": null,
            "align_items": null,
            "align_self": null,
            "border": null,
            "bottom": null,
            "display": null,
            "flex": null,
            "flex_flow": null,
            "grid_area": null,
            "grid_auto_columns": null,
            "grid_auto_flow": null,
            "grid_auto_rows": null,
            "grid_column": null,
            "grid_gap": null,
            "grid_row": null,
            "grid_template_areas": null,
            "grid_template_columns": null,
            "grid_template_rows": null,
            "height": null,
            "justify_content": null,
            "justify_items": null,
            "left": null,
            "margin": null,
            "max_height": null,
            "max_width": null,
            "min_height": null,
            "min_width": null,
            "object_fit": null,
            "object_position": null,
            "order": null,
            "overflow": null,
            "overflow_x": null,
            "overflow_y": null,
            "padding": null,
            "right": null,
            "top": null,
            "visibility": null,
            "width": null
          }
        },
        "0dac3742164f4056bd590b921b864f32": {
          "model_module": "@jupyter-widgets/base",
          "model_name": "LayoutModel",
          "model_module_version": "1.2.0",
          "state": {
            "_model_module": "@jupyter-widgets/base",
            "_model_module_version": "1.2.0",
            "_model_name": "LayoutModel",
            "_view_count": null,
            "_view_module": "@jupyter-widgets/base",
            "_view_module_version": "1.2.0",
            "_view_name": "LayoutView",
            "align_content": null,
            "align_items": null,
            "align_self": null,
            "border": null,
            "bottom": null,
            "display": null,
            "flex": null,
            "flex_flow": null,
            "grid_area": null,
            "grid_auto_columns": null,
            "grid_auto_flow": null,
            "grid_auto_rows": null,
            "grid_column": null,
            "grid_gap": null,
            "grid_row": null,
            "grid_template_areas": null,
            "grid_template_columns": null,
            "grid_template_rows": null,
            "height": null,
            "justify_content": null,
            "justify_items": null,
            "left": null,
            "margin": null,
            "max_height": null,
            "max_width": null,
            "min_height": null,
            "min_width": null,
            "object_fit": null,
            "object_position": null,
            "order": null,
            "overflow": null,
            "overflow_x": null,
            "overflow_y": null,
            "padding": null,
            "right": null,
            "top": null,
            "visibility": null,
            "width": null
          }
        },
        "c20b12ebb6e3497c803a5faeb249f202": {
          "model_module": "@jupyter-widgets/controls",
          "model_name": "DescriptionStyleModel",
          "model_module_version": "1.5.0",
          "state": {
            "_model_module": "@jupyter-widgets/controls",
            "_model_module_version": "1.5.0",
            "_model_name": "DescriptionStyleModel",
            "_view_count": null,
            "_view_module": "@jupyter-widgets/base",
            "_view_module_version": "1.2.0",
            "_view_name": "StyleView",
            "description_width": ""
          }
        },
        "3d7e203dae5446aea8954d01f71eeba3": {
          "model_module": "@jupyter-widgets/base",
          "model_name": "LayoutModel",
          "model_module_version": "1.2.0",
          "state": {
            "_model_module": "@jupyter-widgets/base",
            "_model_module_version": "1.2.0",
            "_model_name": "LayoutModel",
            "_view_count": null,
            "_view_module": "@jupyter-widgets/base",
            "_view_module_version": "1.2.0",
            "_view_name": "LayoutView",
            "align_content": null,
            "align_items": null,
            "align_self": null,
            "border": null,
            "bottom": null,
            "display": null,
            "flex": null,
            "flex_flow": null,
            "grid_area": null,
            "grid_auto_columns": null,
            "grid_auto_flow": null,
            "grid_auto_rows": null,
            "grid_column": null,
            "grid_gap": null,
            "grid_row": null,
            "grid_template_areas": null,
            "grid_template_columns": null,
            "grid_template_rows": null,
            "height": null,
            "justify_content": null,
            "justify_items": null,
            "left": null,
            "margin": null,
            "max_height": null,
            "max_width": null,
            "min_height": null,
            "min_width": null,
            "object_fit": null,
            "object_position": null,
            "order": null,
            "overflow": null,
            "overflow_x": null,
            "overflow_y": null,
            "padding": null,
            "right": null,
            "top": null,
            "visibility": null,
            "width": null
          }
        },
        "45b29fcfe06e41ec855cb05bfce99528": {
          "model_module": "@jupyter-widgets/controls",
          "model_name": "ProgressStyleModel",
          "model_module_version": "1.5.0",
          "state": {
            "_model_module": "@jupyter-widgets/controls",
            "_model_module_version": "1.5.0",
            "_model_name": "ProgressStyleModel",
            "_view_count": null,
            "_view_module": "@jupyter-widgets/base",
            "_view_module_version": "1.2.0",
            "_view_name": "StyleView",
            "bar_color": null,
            "description_width": ""
          }
        },
        "fe558fc64a6845bf8c9522ff55762114": {
          "model_module": "@jupyter-widgets/base",
          "model_name": "LayoutModel",
          "model_module_version": "1.2.0",
          "state": {
            "_model_module": "@jupyter-widgets/base",
            "_model_module_version": "1.2.0",
            "_model_name": "LayoutModel",
            "_view_count": null,
            "_view_module": "@jupyter-widgets/base",
            "_view_module_version": "1.2.0",
            "_view_name": "LayoutView",
            "align_content": null,
            "align_items": null,
            "align_self": null,
            "border": null,
            "bottom": null,
            "display": null,
            "flex": null,
            "flex_flow": null,
            "grid_area": null,
            "grid_auto_columns": null,
            "grid_auto_flow": null,
            "grid_auto_rows": null,
            "grid_column": null,
            "grid_gap": null,
            "grid_row": null,
            "grid_template_areas": null,
            "grid_template_columns": null,
            "grid_template_rows": null,
            "height": null,
            "justify_content": null,
            "justify_items": null,
            "left": null,
            "margin": null,
            "max_height": null,
            "max_width": null,
            "min_height": null,
            "min_width": null,
            "object_fit": null,
            "object_position": null,
            "order": null,
            "overflow": null,
            "overflow_x": null,
            "overflow_y": null,
            "padding": null,
            "right": null,
            "top": null,
            "visibility": null,
            "width": null
          }
        },
        "56caaa3053a54dbc913fa4e6d468a6b9": {
          "model_module": "@jupyter-widgets/controls",
          "model_name": "DescriptionStyleModel",
          "model_module_version": "1.5.0",
          "state": {
            "_model_module": "@jupyter-widgets/controls",
            "_model_module_version": "1.5.0",
            "_model_name": "DescriptionStyleModel",
            "_view_count": null,
            "_view_module": "@jupyter-widgets/base",
            "_view_module_version": "1.2.0",
            "_view_name": "StyleView",
            "description_width": ""
          }
        },
        "d8658fd9134b477e8a4a257b27c82469": {
          "model_module": "@jupyter-widgets/controls",
          "model_name": "HBoxModel",
          "model_module_version": "1.5.0",
          "state": {
            "_dom_classes": [],
            "_model_module": "@jupyter-widgets/controls",
            "_model_module_version": "1.5.0",
            "_model_name": "HBoxModel",
            "_view_count": null,
            "_view_module": "@jupyter-widgets/controls",
            "_view_module_version": "1.5.0",
            "_view_name": "HBoxView",
            "box_style": "",
            "children": [
              "IPY_MODEL_2273ff2b3df7475189a23ecb6a6f162e",
              "IPY_MODEL_4b281c9c0ede4b538640ab46d1c2b373",
              "IPY_MODEL_812f5ca049bc4e2cbac40d9c2d37fb81"
            ],
            "layout": "IPY_MODEL_622853aeba5c4b7aacba398675091dbb"
          }
        },
        "2273ff2b3df7475189a23ecb6a6f162e": {
          "model_module": "@jupyter-widgets/controls",
          "model_name": "HTMLModel",
          "model_module_version": "1.5.0",
          "state": {
            "_dom_classes": [],
            "_model_module": "@jupyter-widgets/controls",
            "_model_module_version": "1.5.0",
            "_model_name": "HTMLModel",
            "_view_count": null,
            "_view_module": "@jupyter-widgets/controls",
            "_view_module_version": "1.5.0",
            "_view_name": "HTMLView",
            "description": "",
            "description_tooltip": null,
            "layout": "IPY_MODEL_73590fb5cfdf4390b56a42caf95bbd99",
            "placeholder": "​",
            "style": "IPY_MODEL_33195779974a4b87b7d7778be73c0c2a",
            "value": "100%"
          }
        },
        "4b281c9c0ede4b538640ab46d1c2b373": {
          "model_module": "@jupyter-widgets/controls",
          "model_name": "FloatProgressModel",
          "model_module_version": "1.5.0",
          "state": {
            "_dom_classes": [],
            "_model_module": "@jupyter-widgets/controls",
            "_model_module_version": "1.5.0",
            "_model_name": "FloatProgressModel",
            "_view_count": null,
            "_view_module": "@jupyter-widgets/controls",
            "_view_module_version": "1.5.0",
            "_view_name": "ProgressView",
            "bar_style": "success",
            "description": "",
            "description_tooltip": null,
            "layout": "IPY_MODEL_9a13f825cd9a42a3ae45f3a684bee339",
            "max": 1875,
            "min": 0,
            "orientation": "horizontal",
            "style": "IPY_MODEL_f049f533b268471781e98b5be227d560",
            "value": 1875
          }
        },
        "812f5ca049bc4e2cbac40d9c2d37fb81": {
          "model_module": "@jupyter-widgets/controls",
          "model_name": "HTMLModel",
          "model_module_version": "1.5.0",
          "state": {
            "_dom_classes": [],
            "_model_module": "@jupyter-widgets/controls",
            "_model_module_version": "1.5.0",
            "_model_name": "HTMLModel",
            "_view_count": null,
            "_view_module": "@jupyter-widgets/controls",
            "_view_module_version": "1.5.0",
            "_view_name": "HTMLView",
            "description": "",
            "description_tooltip": null,
            "layout": "IPY_MODEL_0aa759641f4743d59a240472c1370e09",
            "placeholder": "​",
            "style": "IPY_MODEL_31f33837579c4f059939c4ee185f5ef5",
            "value": " 1875/1875 [00:49&lt;00:00, 41.04it/s]"
          }
        },
        "622853aeba5c4b7aacba398675091dbb": {
          "model_module": "@jupyter-widgets/base",
          "model_name": "LayoutModel",
          "model_module_version": "1.2.0",
          "state": {
            "_model_module": "@jupyter-widgets/base",
            "_model_module_version": "1.2.0",
            "_model_name": "LayoutModel",
            "_view_count": null,
            "_view_module": "@jupyter-widgets/base",
            "_view_module_version": "1.2.0",
            "_view_name": "LayoutView",
            "align_content": null,
            "align_items": null,
            "align_self": null,
            "border": null,
            "bottom": null,
            "display": null,
            "flex": null,
            "flex_flow": null,
            "grid_area": null,
            "grid_auto_columns": null,
            "grid_auto_flow": null,
            "grid_auto_rows": null,
            "grid_column": null,
            "grid_gap": null,
            "grid_row": null,
            "grid_template_areas": null,
            "grid_template_columns": null,
            "grid_template_rows": null,
            "height": null,
            "justify_content": null,
            "justify_items": null,
            "left": null,
            "margin": null,
            "max_height": null,
            "max_width": null,
            "min_height": null,
            "min_width": null,
            "object_fit": null,
            "object_position": null,
            "order": null,
            "overflow": null,
            "overflow_x": null,
            "overflow_y": null,
            "padding": null,
            "right": null,
            "top": null,
            "visibility": null,
            "width": null
          }
        },
        "73590fb5cfdf4390b56a42caf95bbd99": {
          "model_module": "@jupyter-widgets/base",
          "model_name": "LayoutModel",
          "model_module_version": "1.2.0",
          "state": {
            "_model_module": "@jupyter-widgets/base",
            "_model_module_version": "1.2.0",
            "_model_name": "LayoutModel",
            "_view_count": null,
            "_view_module": "@jupyter-widgets/base",
            "_view_module_version": "1.2.0",
            "_view_name": "LayoutView",
            "align_content": null,
            "align_items": null,
            "align_self": null,
            "border": null,
            "bottom": null,
            "display": null,
            "flex": null,
            "flex_flow": null,
            "grid_area": null,
            "grid_auto_columns": null,
            "grid_auto_flow": null,
            "grid_auto_rows": null,
            "grid_column": null,
            "grid_gap": null,
            "grid_row": null,
            "grid_template_areas": null,
            "grid_template_columns": null,
            "grid_template_rows": null,
            "height": null,
            "justify_content": null,
            "justify_items": null,
            "left": null,
            "margin": null,
            "max_height": null,
            "max_width": null,
            "min_height": null,
            "min_width": null,
            "object_fit": null,
            "object_position": null,
            "order": null,
            "overflow": null,
            "overflow_x": null,
            "overflow_y": null,
            "padding": null,
            "right": null,
            "top": null,
            "visibility": null,
            "width": null
          }
        },
        "33195779974a4b87b7d7778be73c0c2a": {
          "model_module": "@jupyter-widgets/controls",
          "model_name": "DescriptionStyleModel",
          "model_module_version": "1.5.0",
          "state": {
            "_model_module": "@jupyter-widgets/controls",
            "_model_module_version": "1.5.0",
            "_model_name": "DescriptionStyleModel",
            "_view_count": null,
            "_view_module": "@jupyter-widgets/base",
            "_view_module_version": "1.2.0",
            "_view_name": "StyleView",
            "description_width": ""
          }
        },
        "9a13f825cd9a42a3ae45f3a684bee339": {
          "model_module": "@jupyter-widgets/base",
          "model_name": "LayoutModel",
          "model_module_version": "1.2.0",
          "state": {
            "_model_module": "@jupyter-widgets/base",
            "_model_module_version": "1.2.0",
            "_model_name": "LayoutModel",
            "_view_count": null,
            "_view_module": "@jupyter-widgets/base",
            "_view_module_version": "1.2.0",
            "_view_name": "LayoutView",
            "align_content": null,
            "align_items": null,
            "align_self": null,
            "border": null,
            "bottom": null,
            "display": null,
            "flex": null,
            "flex_flow": null,
            "grid_area": null,
            "grid_auto_columns": null,
            "grid_auto_flow": null,
            "grid_auto_rows": null,
            "grid_column": null,
            "grid_gap": null,
            "grid_row": null,
            "grid_template_areas": null,
            "grid_template_columns": null,
            "grid_template_rows": null,
            "height": null,
            "justify_content": null,
            "justify_items": null,
            "left": null,
            "margin": null,
            "max_height": null,
            "max_width": null,
            "min_height": null,
            "min_width": null,
            "object_fit": null,
            "object_position": null,
            "order": null,
            "overflow": null,
            "overflow_x": null,
            "overflow_y": null,
            "padding": null,
            "right": null,
            "top": null,
            "visibility": null,
            "width": null
          }
        },
        "f049f533b268471781e98b5be227d560": {
          "model_module": "@jupyter-widgets/controls",
          "model_name": "ProgressStyleModel",
          "model_module_version": "1.5.0",
          "state": {
            "_model_module": "@jupyter-widgets/controls",
            "_model_module_version": "1.5.0",
            "_model_name": "ProgressStyleModel",
            "_view_count": null,
            "_view_module": "@jupyter-widgets/base",
            "_view_module_version": "1.2.0",
            "_view_name": "StyleView",
            "bar_color": null,
            "description_width": ""
          }
        },
        "0aa759641f4743d59a240472c1370e09": {
          "model_module": "@jupyter-widgets/base",
          "model_name": "LayoutModel",
          "model_module_version": "1.2.0",
          "state": {
            "_model_module": "@jupyter-widgets/base",
            "_model_module_version": "1.2.0",
            "_model_name": "LayoutModel",
            "_view_count": null,
            "_view_module": "@jupyter-widgets/base",
            "_view_module_version": "1.2.0",
            "_view_name": "LayoutView",
            "align_content": null,
            "align_items": null,
            "align_self": null,
            "border": null,
            "bottom": null,
            "display": null,
            "flex": null,
            "flex_flow": null,
            "grid_area": null,
            "grid_auto_columns": null,
            "grid_auto_flow": null,
            "grid_auto_rows": null,
            "grid_column": null,
            "grid_gap": null,
            "grid_row": null,
            "grid_template_areas": null,
            "grid_template_columns": null,
            "grid_template_rows": null,
            "height": null,
            "justify_content": null,
            "justify_items": null,
            "left": null,
            "margin": null,
            "max_height": null,
            "max_width": null,
            "min_height": null,
            "min_width": null,
            "object_fit": null,
            "object_position": null,
            "order": null,
            "overflow": null,
            "overflow_x": null,
            "overflow_y": null,
            "padding": null,
            "right": null,
            "top": null,
            "visibility": null,
            "width": null
          }
        },
        "31f33837579c4f059939c4ee185f5ef5": {
          "model_module": "@jupyter-widgets/controls",
          "model_name": "DescriptionStyleModel",
          "model_module_version": "1.5.0",
          "state": {
            "_model_module": "@jupyter-widgets/controls",
            "_model_module_version": "1.5.0",
            "_model_name": "DescriptionStyleModel",
            "_view_count": null,
            "_view_module": "@jupyter-widgets/base",
            "_view_module_version": "1.2.0",
            "_view_name": "StyleView",
            "description_width": ""
          }
        },
        "74385d4d186f45888bb587179e2b6cd0": {
          "model_module": "@jupyter-widgets/controls",
          "model_name": "HBoxModel",
          "model_module_version": "1.5.0",
          "state": {
            "_dom_classes": [],
            "_model_module": "@jupyter-widgets/controls",
            "_model_module_version": "1.5.0",
            "_model_name": "HBoxModel",
            "_view_count": null,
            "_view_module": "@jupyter-widgets/controls",
            "_view_module_version": "1.5.0",
            "_view_name": "HBoxView",
            "box_style": "",
            "children": [
              "IPY_MODEL_45caf13635444e5fb27c91f4bdd053b8",
              "IPY_MODEL_994e6f0631fc4b2e8508226deb7ffcac",
              "IPY_MODEL_616193ee694e4b97ae73bc63fd460932"
            ],
            "layout": "IPY_MODEL_79a993c9d13f468cb41cbb7267aeba22"
          }
        },
        "45caf13635444e5fb27c91f4bdd053b8": {
          "model_module": "@jupyter-widgets/controls",
          "model_name": "HTMLModel",
          "model_module_version": "1.5.0",
          "state": {
            "_dom_classes": [],
            "_model_module": "@jupyter-widgets/controls",
            "_model_module_version": "1.5.0",
            "_model_name": "HTMLModel",
            "_view_count": null,
            "_view_module": "@jupyter-widgets/controls",
            "_view_module_version": "1.5.0",
            "_view_name": "HTMLView",
            "description": "",
            "description_tooltip": null,
            "layout": "IPY_MODEL_d5f0c6b3b9bf41e1a83dc954fe754355",
            "placeholder": "​",
            "style": "IPY_MODEL_34373d1053ef40eaaa51e67a3801c90e",
            "value": "100%"
          }
        },
        "994e6f0631fc4b2e8508226deb7ffcac": {
          "model_module": "@jupyter-widgets/controls",
          "model_name": "FloatProgressModel",
          "model_module_version": "1.5.0",
          "state": {
            "_dom_classes": [],
            "_model_module": "@jupyter-widgets/controls",
            "_model_module_version": "1.5.0",
            "_model_name": "FloatProgressModel",
            "_view_count": null,
            "_view_module": "@jupyter-widgets/controls",
            "_view_module_version": "1.5.0",
            "_view_name": "ProgressView",
            "bar_style": "success",
            "description": "",
            "description_tooltip": null,
            "layout": "IPY_MODEL_faa929dc0ddc48f093b8a5219814db5c",
            "max": 1875,
            "min": 0,
            "orientation": "horizontal",
            "style": "IPY_MODEL_491ef2b3b8584e958b3911f51cff39df",
            "value": 1875
          }
        },
        "616193ee694e4b97ae73bc63fd460932": {
          "model_module": "@jupyter-widgets/controls",
          "model_name": "HTMLModel",
          "model_module_version": "1.5.0",
          "state": {
            "_dom_classes": [],
            "_model_module": "@jupyter-widgets/controls",
            "_model_module_version": "1.5.0",
            "_model_name": "HTMLModel",
            "_view_count": null,
            "_view_module": "@jupyter-widgets/controls",
            "_view_module_version": "1.5.0",
            "_view_name": "HTMLView",
            "description": "",
            "description_tooltip": null,
            "layout": "IPY_MODEL_5473dcaf9ea94cfb8320be7287d75a67",
            "placeholder": "​",
            "style": "IPY_MODEL_f7f0d6f90e034dfcaf583c5df18f1218",
            "value": " 1875/1875 [00:49&lt;00:00, 41.40it/s]"
          }
        },
        "79a993c9d13f468cb41cbb7267aeba22": {
          "model_module": "@jupyter-widgets/base",
          "model_name": "LayoutModel",
          "model_module_version": "1.2.0",
          "state": {
            "_model_module": "@jupyter-widgets/base",
            "_model_module_version": "1.2.0",
            "_model_name": "LayoutModel",
            "_view_count": null,
            "_view_module": "@jupyter-widgets/base",
            "_view_module_version": "1.2.0",
            "_view_name": "LayoutView",
            "align_content": null,
            "align_items": null,
            "align_self": null,
            "border": null,
            "bottom": null,
            "display": null,
            "flex": null,
            "flex_flow": null,
            "grid_area": null,
            "grid_auto_columns": null,
            "grid_auto_flow": null,
            "grid_auto_rows": null,
            "grid_column": null,
            "grid_gap": null,
            "grid_row": null,
            "grid_template_areas": null,
            "grid_template_columns": null,
            "grid_template_rows": null,
            "height": null,
            "justify_content": null,
            "justify_items": null,
            "left": null,
            "margin": null,
            "max_height": null,
            "max_width": null,
            "min_height": null,
            "min_width": null,
            "object_fit": null,
            "object_position": null,
            "order": null,
            "overflow": null,
            "overflow_x": null,
            "overflow_y": null,
            "padding": null,
            "right": null,
            "top": null,
            "visibility": null,
            "width": null
          }
        },
        "d5f0c6b3b9bf41e1a83dc954fe754355": {
          "model_module": "@jupyter-widgets/base",
          "model_name": "LayoutModel",
          "model_module_version": "1.2.0",
          "state": {
            "_model_module": "@jupyter-widgets/base",
            "_model_module_version": "1.2.0",
            "_model_name": "LayoutModel",
            "_view_count": null,
            "_view_module": "@jupyter-widgets/base",
            "_view_module_version": "1.2.0",
            "_view_name": "LayoutView",
            "align_content": null,
            "align_items": null,
            "align_self": null,
            "border": null,
            "bottom": null,
            "display": null,
            "flex": null,
            "flex_flow": null,
            "grid_area": null,
            "grid_auto_columns": null,
            "grid_auto_flow": null,
            "grid_auto_rows": null,
            "grid_column": null,
            "grid_gap": null,
            "grid_row": null,
            "grid_template_areas": null,
            "grid_template_columns": null,
            "grid_template_rows": null,
            "height": null,
            "justify_content": null,
            "justify_items": null,
            "left": null,
            "margin": null,
            "max_height": null,
            "max_width": null,
            "min_height": null,
            "min_width": null,
            "object_fit": null,
            "object_position": null,
            "order": null,
            "overflow": null,
            "overflow_x": null,
            "overflow_y": null,
            "padding": null,
            "right": null,
            "top": null,
            "visibility": null,
            "width": null
          }
        },
        "34373d1053ef40eaaa51e67a3801c90e": {
          "model_module": "@jupyter-widgets/controls",
          "model_name": "DescriptionStyleModel",
          "model_module_version": "1.5.0",
          "state": {
            "_model_module": "@jupyter-widgets/controls",
            "_model_module_version": "1.5.0",
            "_model_name": "DescriptionStyleModel",
            "_view_count": null,
            "_view_module": "@jupyter-widgets/base",
            "_view_module_version": "1.2.0",
            "_view_name": "StyleView",
            "description_width": ""
          }
        },
        "faa929dc0ddc48f093b8a5219814db5c": {
          "model_module": "@jupyter-widgets/base",
          "model_name": "LayoutModel",
          "model_module_version": "1.2.0",
          "state": {
            "_model_module": "@jupyter-widgets/base",
            "_model_module_version": "1.2.0",
            "_model_name": "LayoutModel",
            "_view_count": null,
            "_view_module": "@jupyter-widgets/base",
            "_view_module_version": "1.2.0",
            "_view_name": "LayoutView",
            "align_content": null,
            "align_items": null,
            "align_self": null,
            "border": null,
            "bottom": null,
            "display": null,
            "flex": null,
            "flex_flow": null,
            "grid_area": null,
            "grid_auto_columns": null,
            "grid_auto_flow": null,
            "grid_auto_rows": null,
            "grid_column": null,
            "grid_gap": null,
            "grid_row": null,
            "grid_template_areas": null,
            "grid_template_columns": null,
            "grid_template_rows": null,
            "height": null,
            "justify_content": null,
            "justify_items": null,
            "left": null,
            "margin": null,
            "max_height": null,
            "max_width": null,
            "min_height": null,
            "min_width": null,
            "object_fit": null,
            "object_position": null,
            "order": null,
            "overflow": null,
            "overflow_x": null,
            "overflow_y": null,
            "padding": null,
            "right": null,
            "top": null,
            "visibility": null,
            "width": null
          }
        },
        "491ef2b3b8584e958b3911f51cff39df": {
          "model_module": "@jupyter-widgets/controls",
          "model_name": "ProgressStyleModel",
          "model_module_version": "1.5.0",
          "state": {
            "_model_module": "@jupyter-widgets/controls",
            "_model_module_version": "1.5.0",
            "_model_name": "ProgressStyleModel",
            "_view_count": null,
            "_view_module": "@jupyter-widgets/base",
            "_view_module_version": "1.2.0",
            "_view_name": "StyleView",
            "bar_color": null,
            "description_width": ""
          }
        },
        "5473dcaf9ea94cfb8320be7287d75a67": {
          "model_module": "@jupyter-widgets/base",
          "model_name": "LayoutModel",
          "model_module_version": "1.2.0",
          "state": {
            "_model_module": "@jupyter-widgets/base",
            "_model_module_version": "1.2.0",
            "_model_name": "LayoutModel",
            "_view_count": null,
            "_view_module": "@jupyter-widgets/base",
            "_view_module_version": "1.2.0",
            "_view_name": "LayoutView",
            "align_content": null,
            "align_items": null,
            "align_self": null,
            "border": null,
            "bottom": null,
            "display": null,
            "flex": null,
            "flex_flow": null,
            "grid_area": null,
            "grid_auto_columns": null,
            "grid_auto_flow": null,
            "grid_auto_rows": null,
            "grid_column": null,
            "grid_gap": null,
            "grid_row": null,
            "grid_template_areas": null,
            "grid_template_columns": null,
            "grid_template_rows": null,
            "height": null,
            "justify_content": null,
            "justify_items": null,
            "left": null,
            "margin": null,
            "max_height": null,
            "max_width": null,
            "min_height": null,
            "min_width": null,
            "object_fit": null,
            "object_position": null,
            "order": null,
            "overflow": null,
            "overflow_x": null,
            "overflow_y": null,
            "padding": null,
            "right": null,
            "top": null,
            "visibility": null,
            "width": null
          }
        },
        "f7f0d6f90e034dfcaf583c5df18f1218": {
          "model_module": "@jupyter-widgets/controls",
          "model_name": "DescriptionStyleModel",
          "model_module_version": "1.5.0",
          "state": {
            "_model_module": "@jupyter-widgets/controls",
            "_model_module_version": "1.5.0",
            "_model_name": "DescriptionStyleModel",
            "_view_count": null,
            "_view_module": "@jupyter-widgets/base",
            "_view_module_version": "1.2.0",
            "_view_name": "StyleView",
            "description_width": ""
          }
        },
        "bc9653a0aed445f2acd94a19e6dadcdc": {
          "model_module": "@jupyter-widgets/controls",
          "model_name": "HBoxModel",
          "model_module_version": "1.5.0",
          "state": {
            "_dom_classes": [],
            "_model_module": "@jupyter-widgets/controls",
            "_model_module_version": "1.5.0",
            "_model_name": "HBoxModel",
            "_view_count": null,
            "_view_module": "@jupyter-widgets/controls",
            "_view_module_version": "1.5.0",
            "_view_name": "HBoxView",
            "box_style": "",
            "children": [
              "IPY_MODEL_2d3e45323310460f98b66c308129da2d",
              "IPY_MODEL_30357ab75c034c2981ffd21d21f49447",
              "IPY_MODEL_60441bfff3d3427ba8714780c416513a"
            ],
            "layout": "IPY_MODEL_63afc5397c994ade86ba079ea914ef0c"
          }
        },
        "2d3e45323310460f98b66c308129da2d": {
          "model_module": "@jupyter-widgets/controls",
          "model_name": "HTMLModel",
          "model_module_version": "1.5.0",
          "state": {
            "_dom_classes": [],
            "_model_module": "@jupyter-widgets/controls",
            "_model_module_version": "1.5.0",
            "_model_name": "HTMLModel",
            "_view_count": null,
            "_view_module": "@jupyter-widgets/controls",
            "_view_module_version": "1.5.0",
            "_view_name": "HTMLView",
            "description": "",
            "description_tooltip": null,
            "layout": "IPY_MODEL_ec1316a71acb410994280e84e7504de5",
            "placeholder": "​",
            "style": "IPY_MODEL_54a03dc2c49145a6a1bdfebc1a8f1173",
            "value": "100%"
          }
        },
        "30357ab75c034c2981ffd21d21f49447": {
          "model_module": "@jupyter-widgets/controls",
          "model_name": "FloatProgressModel",
          "model_module_version": "1.5.0",
          "state": {
            "_dom_classes": [],
            "_model_module": "@jupyter-widgets/controls",
            "_model_module_version": "1.5.0",
            "_model_name": "FloatProgressModel",
            "_view_count": null,
            "_view_module": "@jupyter-widgets/controls",
            "_view_module_version": "1.5.0",
            "_view_name": "ProgressView",
            "bar_style": "success",
            "description": "",
            "description_tooltip": null,
            "layout": "IPY_MODEL_a0d952eedbdb4c8a996c2d319bbe2d74",
            "max": 1875,
            "min": 0,
            "orientation": "horizontal",
            "style": "IPY_MODEL_cc0e85e70472415e898b7a3c2f1f5ee0",
            "value": 1875
          }
        },
        "60441bfff3d3427ba8714780c416513a": {
          "model_module": "@jupyter-widgets/controls",
          "model_name": "HTMLModel",
          "model_module_version": "1.5.0",
          "state": {
            "_dom_classes": [],
            "_model_module": "@jupyter-widgets/controls",
            "_model_module_version": "1.5.0",
            "_model_name": "HTMLModel",
            "_view_count": null,
            "_view_module": "@jupyter-widgets/controls",
            "_view_module_version": "1.5.0",
            "_view_name": "HTMLView",
            "description": "",
            "description_tooltip": null,
            "layout": "IPY_MODEL_049ab3e3683c46d2939ad1b494a835e9",
            "placeholder": "​",
            "style": "IPY_MODEL_105681fadecd4e3ba9c4f2df6a9f689a",
            "value": " 1875/1875 [00:49&lt;00:00, 31.01it/s]"
          }
        },
        "63afc5397c994ade86ba079ea914ef0c": {
          "model_module": "@jupyter-widgets/base",
          "model_name": "LayoutModel",
          "model_module_version": "1.2.0",
          "state": {
            "_model_module": "@jupyter-widgets/base",
            "_model_module_version": "1.2.0",
            "_model_name": "LayoutModel",
            "_view_count": null,
            "_view_module": "@jupyter-widgets/base",
            "_view_module_version": "1.2.0",
            "_view_name": "LayoutView",
            "align_content": null,
            "align_items": null,
            "align_self": null,
            "border": null,
            "bottom": null,
            "display": null,
            "flex": null,
            "flex_flow": null,
            "grid_area": null,
            "grid_auto_columns": null,
            "grid_auto_flow": null,
            "grid_auto_rows": null,
            "grid_column": null,
            "grid_gap": null,
            "grid_row": null,
            "grid_template_areas": null,
            "grid_template_columns": null,
            "grid_template_rows": null,
            "height": null,
            "justify_content": null,
            "justify_items": null,
            "left": null,
            "margin": null,
            "max_height": null,
            "max_width": null,
            "min_height": null,
            "min_width": null,
            "object_fit": null,
            "object_position": null,
            "order": null,
            "overflow": null,
            "overflow_x": null,
            "overflow_y": null,
            "padding": null,
            "right": null,
            "top": null,
            "visibility": null,
            "width": null
          }
        },
        "ec1316a71acb410994280e84e7504de5": {
          "model_module": "@jupyter-widgets/base",
          "model_name": "LayoutModel",
          "model_module_version": "1.2.0",
          "state": {
            "_model_module": "@jupyter-widgets/base",
            "_model_module_version": "1.2.0",
            "_model_name": "LayoutModel",
            "_view_count": null,
            "_view_module": "@jupyter-widgets/base",
            "_view_module_version": "1.2.0",
            "_view_name": "LayoutView",
            "align_content": null,
            "align_items": null,
            "align_self": null,
            "border": null,
            "bottom": null,
            "display": null,
            "flex": null,
            "flex_flow": null,
            "grid_area": null,
            "grid_auto_columns": null,
            "grid_auto_flow": null,
            "grid_auto_rows": null,
            "grid_column": null,
            "grid_gap": null,
            "grid_row": null,
            "grid_template_areas": null,
            "grid_template_columns": null,
            "grid_template_rows": null,
            "height": null,
            "justify_content": null,
            "justify_items": null,
            "left": null,
            "margin": null,
            "max_height": null,
            "max_width": null,
            "min_height": null,
            "min_width": null,
            "object_fit": null,
            "object_position": null,
            "order": null,
            "overflow": null,
            "overflow_x": null,
            "overflow_y": null,
            "padding": null,
            "right": null,
            "top": null,
            "visibility": null,
            "width": null
          }
        },
        "54a03dc2c49145a6a1bdfebc1a8f1173": {
          "model_module": "@jupyter-widgets/controls",
          "model_name": "DescriptionStyleModel",
          "model_module_version": "1.5.0",
          "state": {
            "_model_module": "@jupyter-widgets/controls",
            "_model_module_version": "1.5.0",
            "_model_name": "DescriptionStyleModel",
            "_view_count": null,
            "_view_module": "@jupyter-widgets/base",
            "_view_module_version": "1.2.0",
            "_view_name": "StyleView",
            "description_width": ""
          }
        },
        "a0d952eedbdb4c8a996c2d319bbe2d74": {
          "model_module": "@jupyter-widgets/base",
          "model_name": "LayoutModel",
          "model_module_version": "1.2.0",
          "state": {
            "_model_module": "@jupyter-widgets/base",
            "_model_module_version": "1.2.0",
            "_model_name": "LayoutModel",
            "_view_count": null,
            "_view_module": "@jupyter-widgets/base",
            "_view_module_version": "1.2.0",
            "_view_name": "LayoutView",
            "align_content": null,
            "align_items": null,
            "align_self": null,
            "border": null,
            "bottom": null,
            "display": null,
            "flex": null,
            "flex_flow": null,
            "grid_area": null,
            "grid_auto_columns": null,
            "grid_auto_flow": null,
            "grid_auto_rows": null,
            "grid_column": null,
            "grid_gap": null,
            "grid_row": null,
            "grid_template_areas": null,
            "grid_template_columns": null,
            "grid_template_rows": null,
            "height": null,
            "justify_content": null,
            "justify_items": null,
            "left": null,
            "margin": null,
            "max_height": null,
            "max_width": null,
            "min_height": null,
            "min_width": null,
            "object_fit": null,
            "object_position": null,
            "order": null,
            "overflow": null,
            "overflow_x": null,
            "overflow_y": null,
            "padding": null,
            "right": null,
            "top": null,
            "visibility": null,
            "width": null
          }
        },
        "cc0e85e70472415e898b7a3c2f1f5ee0": {
          "model_module": "@jupyter-widgets/controls",
          "model_name": "ProgressStyleModel",
          "model_module_version": "1.5.0",
          "state": {
            "_model_module": "@jupyter-widgets/controls",
            "_model_module_version": "1.5.0",
            "_model_name": "ProgressStyleModel",
            "_view_count": null,
            "_view_module": "@jupyter-widgets/base",
            "_view_module_version": "1.2.0",
            "_view_name": "StyleView",
            "bar_color": null,
            "description_width": ""
          }
        },
        "049ab3e3683c46d2939ad1b494a835e9": {
          "model_module": "@jupyter-widgets/base",
          "model_name": "LayoutModel",
          "model_module_version": "1.2.0",
          "state": {
            "_model_module": "@jupyter-widgets/base",
            "_model_module_version": "1.2.0",
            "_model_name": "LayoutModel",
            "_view_count": null,
            "_view_module": "@jupyter-widgets/base",
            "_view_module_version": "1.2.0",
            "_view_name": "LayoutView",
            "align_content": null,
            "align_items": null,
            "align_self": null,
            "border": null,
            "bottom": null,
            "display": null,
            "flex": null,
            "flex_flow": null,
            "grid_area": null,
            "grid_auto_columns": null,
            "grid_auto_flow": null,
            "grid_auto_rows": null,
            "grid_column": null,
            "grid_gap": null,
            "grid_row": null,
            "grid_template_areas": null,
            "grid_template_columns": null,
            "grid_template_rows": null,
            "height": null,
            "justify_content": null,
            "justify_items": null,
            "left": null,
            "margin": null,
            "max_height": null,
            "max_width": null,
            "min_height": null,
            "min_width": null,
            "object_fit": null,
            "object_position": null,
            "order": null,
            "overflow": null,
            "overflow_x": null,
            "overflow_y": null,
            "padding": null,
            "right": null,
            "top": null,
            "visibility": null,
            "width": null
          }
        },
        "105681fadecd4e3ba9c4f2df6a9f689a": {
          "model_module": "@jupyter-widgets/controls",
          "model_name": "DescriptionStyleModel",
          "model_module_version": "1.5.0",
          "state": {
            "_model_module": "@jupyter-widgets/controls",
            "_model_module_version": "1.5.0",
            "_model_name": "DescriptionStyleModel",
            "_view_count": null,
            "_view_module": "@jupyter-widgets/base",
            "_view_module_version": "1.2.0",
            "_view_name": "StyleView",
            "description_width": ""
          }
        },
        "f7582fcbc6f54291b8ee1ad8acd38a6a": {
          "model_module": "@jupyter-widgets/controls",
          "model_name": "HBoxModel",
          "model_module_version": "1.5.0",
          "state": {
            "_dom_classes": [],
            "_model_module": "@jupyter-widgets/controls",
            "_model_module_version": "1.5.0",
            "_model_name": "HBoxModel",
            "_view_count": null,
            "_view_module": "@jupyter-widgets/controls",
            "_view_module_version": "1.5.0",
            "_view_name": "HBoxView",
            "box_style": "",
            "children": [
              "IPY_MODEL_da8c4f7bf206402591bf406fd25832de",
              "IPY_MODEL_09e7e9762ce64e1d85d8f73074660110",
              "IPY_MODEL_9487521113484cb68b97cc3f6838dabb"
            ],
            "layout": "IPY_MODEL_40f0f45500ff4706b1eb86c4a7ea4262"
          }
        },
        "da8c4f7bf206402591bf406fd25832de": {
          "model_module": "@jupyter-widgets/controls",
          "model_name": "HTMLModel",
          "model_module_version": "1.5.0",
          "state": {
            "_dom_classes": [],
            "_model_module": "@jupyter-widgets/controls",
            "_model_module_version": "1.5.0",
            "_model_name": "HTMLModel",
            "_view_count": null,
            "_view_module": "@jupyter-widgets/controls",
            "_view_module_version": "1.5.0",
            "_view_name": "HTMLView",
            "description": "",
            "description_tooltip": null,
            "layout": "IPY_MODEL_1234ccbdc9c84423a70718189db14218",
            "placeholder": "​",
            "style": "IPY_MODEL_2b2e51e79e0e4b1ca6ffa9c24205f5b8",
            "value": "100%"
          }
        },
        "09e7e9762ce64e1d85d8f73074660110": {
          "model_module": "@jupyter-widgets/controls",
          "model_name": "FloatProgressModel",
          "model_module_version": "1.5.0",
          "state": {
            "_dom_classes": [],
            "_model_module": "@jupyter-widgets/controls",
            "_model_module_version": "1.5.0",
            "_model_name": "FloatProgressModel",
            "_view_count": null,
            "_view_module": "@jupyter-widgets/controls",
            "_view_module_version": "1.5.0",
            "_view_name": "ProgressView",
            "bar_style": "success",
            "description": "",
            "description_tooltip": null,
            "layout": "IPY_MODEL_0ff4a927069141c28267c806267b87d8",
            "max": 1875,
            "min": 0,
            "orientation": "horizontal",
            "style": "IPY_MODEL_3d683e16fcaf453a9b0f4f4463613c29",
            "value": 1875
          }
        },
        "9487521113484cb68b97cc3f6838dabb": {
          "model_module": "@jupyter-widgets/controls",
          "model_name": "HTMLModel",
          "model_module_version": "1.5.0",
          "state": {
            "_dom_classes": [],
            "_model_module": "@jupyter-widgets/controls",
            "_model_module_version": "1.5.0",
            "_model_name": "HTMLModel",
            "_view_count": null,
            "_view_module": "@jupyter-widgets/controls",
            "_view_module_version": "1.5.0",
            "_view_name": "HTMLView",
            "description": "",
            "description_tooltip": null,
            "layout": "IPY_MODEL_ce79ecd3deb5465f8fe9ec07deb7ae49",
            "placeholder": "​",
            "style": "IPY_MODEL_4ce843c505ae4f29a4d22fcafb96449d",
            "value": " 1875/1875 [00:48&lt;00:00, 42.25it/s]"
          }
        },
        "40f0f45500ff4706b1eb86c4a7ea4262": {
          "model_module": "@jupyter-widgets/base",
          "model_name": "LayoutModel",
          "model_module_version": "1.2.0",
          "state": {
            "_model_module": "@jupyter-widgets/base",
            "_model_module_version": "1.2.0",
            "_model_name": "LayoutModel",
            "_view_count": null,
            "_view_module": "@jupyter-widgets/base",
            "_view_module_version": "1.2.0",
            "_view_name": "LayoutView",
            "align_content": null,
            "align_items": null,
            "align_self": null,
            "border": null,
            "bottom": null,
            "display": null,
            "flex": null,
            "flex_flow": null,
            "grid_area": null,
            "grid_auto_columns": null,
            "grid_auto_flow": null,
            "grid_auto_rows": null,
            "grid_column": null,
            "grid_gap": null,
            "grid_row": null,
            "grid_template_areas": null,
            "grid_template_columns": null,
            "grid_template_rows": null,
            "height": null,
            "justify_content": null,
            "justify_items": null,
            "left": null,
            "margin": null,
            "max_height": null,
            "max_width": null,
            "min_height": null,
            "min_width": null,
            "object_fit": null,
            "object_position": null,
            "order": null,
            "overflow": null,
            "overflow_x": null,
            "overflow_y": null,
            "padding": null,
            "right": null,
            "top": null,
            "visibility": null,
            "width": null
          }
        },
        "1234ccbdc9c84423a70718189db14218": {
          "model_module": "@jupyter-widgets/base",
          "model_name": "LayoutModel",
          "model_module_version": "1.2.0",
          "state": {
            "_model_module": "@jupyter-widgets/base",
            "_model_module_version": "1.2.0",
            "_model_name": "LayoutModel",
            "_view_count": null,
            "_view_module": "@jupyter-widgets/base",
            "_view_module_version": "1.2.0",
            "_view_name": "LayoutView",
            "align_content": null,
            "align_items": null,
            "align_self": null,
            "border": null,
            "bottom": null,
            "display": null,
            "flex": null,
            "flex_flow": null,
            "grid_area": null,
            "grid_auto_columns": null,
            "grid_auto_flow": null,
            "grid_auto_rows": null,
            "grid_column": null,
            "grid_gap": null,
            "grid_row": null,
            "grid_template_areas": null,
            "grid_template_columns": null,
            "grid_template_rows": null,
            "height": null,
            "justify_content": null,
            "justify_items": null,
            "left": null,
            "margin": null,
            "max_height": null,
            "max_width": null,
            "min_height": null,
            "min_width": null,
            "object_fit": null,
            "object_position": null,
            "order": null,
            "overflow": null,
            "overflow_x": null,
            "overflow_y": null,
            "padding": null,
            "right": null,
            "top": null,
            "visibility": null,
            "width": null
          }
        },
        "2b2e51e79e0e4b1ca6ffa9c24205f5b8": {
          "model_module": "@jupyter-widgets/controls",
          "model_name": "DescriptionStyleModel",
          "model_module_version": "1.5.0",
          "state": {
            "_model_module": "@jupyter-widgets/controls",
            "_model_module_version": "1.5.0",
            "_model_name": "DescriptionStyleModel",
            "_view_count": null,
            "_view_module": "@jupyter-widgets/base",
            "_view_module_version": "1.2.0",
            "_view_name": "StyleView",
            "description_width": ""
          }
        },
        "0ff4a927069141c28267c806267b87d8": {
          "model_module": "@jupyter-widgets/base",
          "model_name": "LayoutModel",
          "model_module_version": "1.2.0",
          "state": {
            "_model_module": "@jupyter-widgets/base",
            "_model_module_version": "1.2.0",
            "_model_name": "LayoutModel",
            "_view_count": null,
            "_view_module": "@jupyter-widgets/base",
            "_view_module_version": "1.2.0",
            "_view_name": "LayoutView",
            "align_content": null,
            "align_items": null,
            "align_self": null,
            "border": null,
            "bottom": null,
            "display": null,
            "flex": null,
            "flex_flow": null,
            "grid_area": null,
            "grid_auto_columns": null,
            "grid_auto_flow": null,
            "grid_auto_rows": null,
            "grid_column": null,
            "grid_gap": null,
            "grid_row": null,
            "grid_template_areas": null,
            "grid_template_columns": null,
            "grid_template_rows": null,
            "height": null,
            "justify_content": null,
            "justify_items": null,
            "left": null,
            "margin": null,
            "max_height": null,
            "max_width": null,
            "min_height": null,
            "min_width": null,
            "object_fit": null,
            "object_position": null,
            "order": null,
            "overflow": null,
            "overflow_x": null,
            "overflow_y": null,
            "padding": null,
            "right": null,
            "top": null,
            "visibility": null,
            "width": null
          }
        },
        "3d683e16fcaf453a9b0f4f4463613c29": {
          "model_module": "@jupyter-widgets/controls",
          "model_name": "ProgressStyleModel",
          "model_module_version": "1.5.0",
          "state": {
            "_model_module": "@jupyter-widgets/controls",
            "_model_module_version": "1.5.0",
            "_model_name": "ProgressStyleModel",
            "_view_count": null,
            "_view_module": "@jupyter-widgets/base",
            "_view_module_version": "1.2.0",
            "_view_name": "StyleView",
            "bar_color": null,
            "description_width": ""
          }
        },
        "ce79ecd3deb5465f8fe9ec07deb7ae49": {
          "model_module": "@jupyter-widgets/base",
          "model_name": "LayoutModel",
          "model_module_version": "1.2.0",
          "state": {
            "_model_module": "@jupyter-widgets/base",
            "_model_module_version": "1.2.0",
            "_model_name": "LayoutModel",
            "_view_count": null,
            "_view_module": "@jupyter-widgets/base",
            "_view_module_version": "1.2.0",
            "_view_name": "LayoutView",
            "align_content": null,
            "align_items": null,
            "align_self": null,
            "border": null,
            "bottom": null,
            "display": null,
            "flex": null,
            "flex_flow": null,
            "grid_area": null,
            "grid_auto_columns": null,
            "grid_auto_flow": null,
            "grid_auto_rows": null,
            "grid_column": null,
            "grid_gap": null,
            "grid_row": null,
            "grid_template_areas": null,
            "grid_template_columns": null,
            "grid_template_rows": null,
            "height": null,
            "justify_content": null,
            "justify_items": null,
            "left": null,
            "margin": null,
            "max_height": null,
            "max_width": null,
            "min_height": null,
            "min_width": null,
            "object_fit": null,
            "object_position": null,
            "order": null,
            "overflow": null,
            "overflow_x": null,
            "overflow_y": null,
            "padding": null,
            "right": null,
            "top": null,
            "visibility": null,
            "width": null
          }
        },
        "4ce843c505ae4f29a4d22fcafb96449d": {
          "model_module": "@jupyter-widgets/controls",
          "model_name": "DescriptionStyleModel",
          "model_module_version": "1.5.0",
          "state": {
            "_model_module": "@jupyter-widgets/controls",
            "_model_module_version": "1.5.0",
            "_model_name": "DescriptionStyleModel",
            "_view_count": null,
            "_view_module": "@jupyter-widgets/base",
            "_view_module_version": "1.2.0",
            "_view_name": "StyleView",
            "description_width": ""
          }
        }
      }
    },
    "accelerator": "GPU"
  },
  "nbformat": 4,
  "nbformat_minor": 0
}